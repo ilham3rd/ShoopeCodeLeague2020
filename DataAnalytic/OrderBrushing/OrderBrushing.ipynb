{
 "metadata": {
  "language_info": {
   "codemirror_mode": {
    "name": "ipython",
    "version": 3
   },
   "file_extension": ".py",
   "mimetype": "text/x-python",
   "name": "python",
   "nbconvert_exporter": "python",
   "pygments_lexer": "ipython3",
   "version": "3.6.9-final"
  },
  "orig_nbformat": 2,
  "kernelspec": {
   "name": "python3",
   "display_name": "Python 3.6.9 64-bit",
   "metadata": {
    "interpreter": {
     "hash": "767d51c1340bd893661ea55ea3124f6de3c7a262a8b4abca0554b478b1e2ff90"
    }
   }
  }
 },
 "nbformat": 4,
 "nbformat_minor": 2,
 "cells": [
  {
   "source": [
    "# [Students] Shopee Code League - Order Brushing.ipynb"
   ],
   "cell_type": "markdown",
   "metadata": {}
  },
  {
   "cell_type": "code",
   "execution_count": 205,
   "metadata": {},
   "outputs": [],
   "source": [
    "import pandas as pd\n",
    "from pandas.tseries.offsets import DateOffset\n",
    "import csv\n",
    "from tqdm import tqdm"
   ]
  },
  {
   "cell_type": "code",
   "execution_count": 2,
   "metadata": {},
   "outputs": [
    {
     "output_type": "execute_result",
     "data": {
      "text/plain": [
       "               orderid  shopid     userid          event_time\n",
       "59      31086409141107   10009  196962305 2019-12-27 03:06:50\n",
       "76187   31144571933461   10051    2854032 2019-12-27 19:16:11\n",
       "9055    31254979546679   10051   48600461 2019-12-29 01:56:19\n",
       "188513  31195675919209   10061  168750452 2019-12-28 09:27:55\n",
       "174620  31205132327893   10061  194819216 2019-12-28 12:05:32\n",
       "200439  31412115824794   10061  130633421 2019-12-30 21:35:15\n",
       "145426  31431527100615   10061   62464559 2019-12-31 02:58:48\n",
       "167859  31075686185309   10084    4401933 2019-12-27 00:08:06\n",
       "178051  31077155357404   10084   13837190 2019-12-27 00:32:36\n",
       "91837   31079024994425   10084   39828049 2019-12-27 01:03:44"
      ],
      "text/html": "<div>\n<style scoped>\n    .dataframe tbody tr th:only-of-type {\n        vertical-align: middle;\n    }\n\n    .dataframe tbody tr th {\n        vertical-align: top;\n    }\n\n    .dataframe thead th {\n        text-align: right;\n    }\n</style>\n<table border=\"1\" class=\"dataframe\">\n  <thead>\n    <tr style=\"text-align: right;\">\n      <th></th>\n      <th>orderid</th>\n      <th>shopid</th>\n      <th>userid</th>\n      <th>event_time</th>\n    </tr>\n  </thead>\n  <tbody>\n    <tr>\n      <th>59</th>\n      <td>31086409141107</td>\n      <td>10009</td>\n      <td>196962305</td>\n      <td>2019-12-27 03:06:50</td>\n    </tr>\n    <tr>\n      <th>76187</th>\n      <td>31144571933461</td>\n      <td>10051</td>\n      <td>2854032</td>\n      <td>2019-12-27 19:16:11</td>\n    </tr>\n    <tr>\n      <th>9055</th>\n      <td>31254979546679</td>\n      <td>10051</td>\n      <td>48600461</td>\n      <td>2019-12-29 01:56:19</td>\n    </tr>\n    <tr>\n      <th>188513</th>\n      <td>31195675919209</td>\n      <td>10061</td>\n      <td>168750452</td>\n      <td>2019-12-28 09:27:55</td>\n    </tr>\n    <tr>\n      <th>174620</th>\n      <td>31205132327893</td>\n      <td>10061</td>\n      <td>194819216</td>\n      <td>2019-12-28 12:05:32</td>\n    </tr>\n    <tr>\n      <th>200439</th>\n      <td>31412115824794</td>\n      <td>10061</td>\n      <td>130633421</td>\n      <td>2019-12-30 21:35:15</td>\n    </tr>\n    <tr>\n      <th>145426</th>\n      <td>31431527100615</td>\n      <td>10061</td>\n      <td>62464559</td>\n      <td>2019-12-31 02:58:48</td>\n    </tr>\n    <tr>\n      <th>167859</th>\n      <td>31075686185309</td>\n      <td>10084</td>\n      <td>4401933</td>\n      <td>2019-12-27 00:08:06</td>\n    </tr>\n    <tr>\n      <th>178051</th>\n      <td>31077155357404</td>\n      <td>10084</td>\n      <td>13837190</td>\n      <td>2019-12-27 00:32:36</td>\n    </tr>\n    <tr>\n      <th>91837</th>\n      <td>31079024994425</td>\n      <td>10084</td>\n      <td>39828049</td>\n      <td>2019-12-27 01:03:44</td>\n    </tr>\n  </tbody>\n</table>\n</div>"
     },
     "metadata": {},
     "execution_count": 2
    }
   ],
   "source": [
    "df_file = pd.read_csv(\"order_brush_order.csv\")\n",
    "df_file['event_time'] = pd.to_datetime(df_file['event_time'])\n",
    "df_file=df_file.sort_values(by=['shopid','event_time'])\n",
    "df_file.head(10)"
   ]
  },
  {
   "cell_type": "code",
   "execution_count": 3,
   "metadata": {},
   "outputs": [],
   "source": [
    "# Berfungsi untuk mendapatkan daftar shopid\n",
    "list_shopid = df_file['shopid'].unique()"
   ]
  },
  {
   "cell_type": "code",
   "execution_count": 4,
   "metadata": {},
   "outputs": [
    {
     "output_type": "execute_result",
     "data": {
      "text/plain": [
       "               orderid  shopid    userid          event_time\n",
       "166922  31076890562912   10311   5314183 2019-12-27 00:28:11\n",
       "97644   31078750586751   10311  48188032 2019-12-27 00:59:10\n",
       "167900  31106297734012   10311  86593046 2019-12-27 08:38:17\n",
       "121781  31113446916111   10311   1223238 2019-12-27 10:37:26\n",
       "51555   31114127034746   10311  15372944 2019-12-27 10:48:48"
      ],
      "text/html": "<div>\n<style scoped>\n    .dataframe tbody tr th:only-of-type {\n        vertical-align: middle;\n    }\n\n    .dataframe tbody tr th {\n        vertical-align: top;\n    }\n\n    .dataframe thead th {\n        text-align: right;\n    }\n</style>\n<table border=\"1\" class=\"dataframe\">\n  <thead>\n    <tr style=\"text-align: right;\">\n      <th></th>\n      <th>orderid</th>\n      <th>shopid</th>\n      <th>userid</th>\n      <th>event_time</th>\n    </tr>\n  </thead>\n  <tbody>\n    <tr>\n      <th>166922</th>\n      <td>31076890562912</td>\n      <td>10311</td>\n      <td>5314183</td>\n      <td>2019-12-27 00:28:11</td>\n    </tr>\n    <tr>\n      <th>97644</th>\n      <td>31078750586751</td>\n      <td>10311</td>\n      <td>48188032</td>\n      <td>2019-12-27 00:59:10</td>\n    </tr>\n    <tr>\n      <th>167900</th>\n      <td>31106297734012</td>\n      <td>10311</td>\n      <td>86593046</td>\n      <td>2019-12-27 08:38:17</td>\n    </tr>\n    <tr>\n      <th>121781</th>\n      <td>31113446916111</td>\n      <td>10311</td>\n      <td>1223238</td>\n      <td>2019-12-27 10:37:26</td>\n    </tr>\n    <tr>\n      <th>51555</th>\n      <td>31114127034746</td>\n      <td>10311</td>\n      <td>15372944</td>\n      <td>2019-12-27 10:48:48</td>\n    </tr>\n  </tbody>\n</table>\n</div>"
     },
     "metadata": {},
     "execution_count": 4
    }
   ],
   "source": [
    "def get_df_by_shopid(key_shopid, df):\n",
    "    \"\"\"Memperoleh dataframe berdasarkan shopid\n",
    "\n",
    "    Parameters \n",
    "    ----------\n",
    "    key_shopid : str\n",
    "    df : DataFrame\n",
    "\n",
    "    Returns\n",
    "    -------\n",
    "    DataFrame\n",
    "        dataframe sesuai dengan shopid\n",
    "    \"\"\"\n",
    "    df_shopid = df[df['shopid']==key_shopid]\n",
    "    return df_shopid\n",
    "\n",
    "get_df_by_shopid(list_shopid[25], df_file).head()"
   ]
  },
  {
   "cell_type": "code",
   "execution_count": 5,
   "metadata": {},
   "outputs": [
    {
     "output_type": "execute_result",
     "data": {
      "text/plain": [
       "               orderid  shopid    userid          event_time\n",
       "121781  31113446916111   10311   1223238 2019-12-27 10:37:26\n",
       "51555   31114127034746   10311  15372944 2019-12-27 10:48:48"
      ],
      "text/html": "<div>\n<style scoped>\n    .dataframe tbody tr th:only-of-type {\n        vertical-align: middle;\n    }\n\n    .dataframe tbody tr th {\n        vertical-align: top;\n    }\n\n    .dataframe thead th {\n        text-align: right;\n    }\n</style>\n<table border=\"1\" class=\"dataframe\">\n  <thead>\n    <tr style=\"text-align: right;\">\n      <th></th>\n      <th>orderid</th>\n      <th>shopid</th>\n      <th>userid</th>\n      <th>event_time</th>\n    </tr>\n  </thead>\n  <tbody>\n    <tr>\n      <th>121781</th>\n      <td>31113446916111</td>\n      <td>10311</td>\n      <td>1223238</td>\n      <td>2019-12-27 10:37:26</td>\n    </tr>\n    <tr>\n      <th>51555</th>\n      <td>31114127034746</td>\n      <td>10311</td>\n      <td>15372944</td>\n      <td>2019-12-27 10:48:48</td>\n    </tr>\n  </tbody>\n</table>\n</div>"
     },
     "metadata": {},
     "execution_count": 5
    }
   ],
   "source": [
    "def get_df_in_a_hour_from_series(s_index, df):\n",
    "    \"\"\"Memperoleh dataframe 1 jam berikutnya dari waktu awal s_index\"\n",
    "    \n",
    "    Parameters:\n",
    "    -----------\n",
    "    s_index : Series\n",
    "    df : DataFrame\n",
    "        dataframe setiap shopid\n",
    "    \n",
    "    Returns:\n",
    "    --------\n",
    "    Dataframe\n",
    "    \"\"\"\n",
    "    time_start = s_index['event_time']\n",
    "    time_end = s_index['event_time'] + DateOffset(hours=1)\n",
    "    mask_by_time_range = (df['event_time']>=time_start) & (df['event_time']<=time_end)\n",
    "    df_by_time_range = df[mask_by_time_range]\n",
    "    return df_by_time_range\n",
    "    # time_start = s_index['event_time']\n",
    "\n",
    "df_test = get_df_by_shopid(list_shopid[25], df_file)\n",
    "get_df_in_a_hour_from_series(df_test.iloc[3],df_test).head()"
   ]
  },
  {
   "cell_type": "code",
   "execution_count": 160,
   "metadata": {},
   "outputs": [
    {
     "output_type": "execute_result",
     "data": {
      "text/plain": [
       "False"
      ]
     },
     "metadata": {},
     "execution_count": 160
    }
   ],
   "source": [
    "def check_df_isSuspicious(df):\n",
    "    \"\"\"Memeriksa apakah dataframe rentang order 1 jam berpotensi 'order brushing'\n",
    "    Nilai concentrate rate = (Banyaknya Orderan dalam 1 jam) / (Banyaknya user yang berbeda)\n",
    "\n",
    "    Parameters:\n",
    "    ----------\n",
    "    df : DataFrame\n",
    "\n",
    "    Returns:\n",
    "    --------\n",
    "    Boolean\n",
    "        True : jika concentrate rate > =3\n",
    "    \"\"\"\n",
    "    concentrate_rate = df.shape[0]/ (len(df['userid'].unique()))\n",
    "    if concentrate_rate >= 3.0 :\n",
    "        return True\n",
    "    else:\n",
    "        return False\n",
    "        \n",
    "df_test = get_df_by_shopid(list_shopid[25], df_file)\n",
    "df_each_hour = get_df_in_a_hour_from_series(df_test.iloc[3],df_test)\n",
    "check_df_isSuspicious(df_each_hour)"
   ]
  },
  {
   "cell_type": "code",
   "execution_count": 198,
   "metadata": {},
   "outputs": [],
   "source": [
    "def find_suspiciousUser(df):\n",
    "    \"\"\"Memeriksa apakah dataframe rentang order 1 jam berpotensi 'order brushing'\n",
    "    Nilai concentrate rate = (Banyaknya Orderan dalam 1 jam) / (Banyaknya user yang berbeda)\n",
    "\n",
    "    Parameters:\n",
    "    ----------\n",
    "    df : DataFrame\n",
    "\n",
    "    Returns:\n",
    "    --------\n",
    "    string\n",
    "        \"0\" : Jika tidak terdapat user order brushing\n",
    "        \"userid\" : Jika terdapat user yang melakukan order brushing\n",
    "        \"userid&...&useridN : Jika terdapat lebih dari satu user yang melakukan order brushing \"\"\"\n",
    "    \n",
    "    list_user = list(df.sort_values(by=[\"userid\"])[\"userid\"].unique())\n",
    "    list_proportion = [0 for i in range (0,len(list_user))]\n",
    "    for i in range(0,len(list_user)):\n",
    "        list_proportion[i] = df[df[\"userid\"]==list_user[i]].shape[0]/df.shape[0]\n",
    "    maximum_proportion = max(list_proportion)\n",
    "    if(list_proportion.count(maximum_proportion)>1):\n",
    "        userId_suspicious = \"&\".join([str(list_user[j]) for j in range(0,len(list_proportion)) if list_proportion[j]==maximum_proportion])\n",
    "        # msg = \"&\".join([str(list_user[j]) for j in range(0,len(list_proportion) if list_proportion[j]==maximum_proportion])\n",
    "        return userId_suspicious\n",
    "    else:\n",
    "        userId_suspicious = str(list_user[list_proportion.index(maximum_proportion)])\n",
    "        return userId_suspicious\n"
   ]
  },
  {
   "cell_type": "code",
   "execution_count": 220,
   "metadata": {
    "tags": []
   },
   "outputs": [
    {
     "output_type": "stream",
     "name": "stderr",
     "text": [
      "100%|██████████| 18770/18770 [03:33<00:00, 88.12it/s] \n"
     ]
    }
   ],
   "source": [
    "dict_shopId = {}\n",
    "list_shopid = df_file['shopid'].unique()\n",
    "for shopId in tqdm(list_shopid):\n",
    "    df_shopId = get_df_by_shopid(shopId,df_file)\n",
    "    df_periodSuspicious = pd.DataFrame(columns=[\"orderid\",\"shopid\",\"userid\",\"event_time\"])\n",
    "    for index in range(0, df_shopId.shape[0]):\n",
    "        df_each_hour = get_df_in_a_hour_from_series(df_shopId.iloc[index],df_shopId)\n",
    "        if check_df_isSuspicious(df_each_hour):\n",
    "            df_periodSuspicious = df_periodSuspicious.append(df_each_hour)\n",
    "        else:\n",
    "            pass\n",
    "    if(df_periodSuspicious.shape[0]!=0):\n",
    "        df_periodSuspicious = df_periodSuspicious.drop_duplicates()\n",
    "        dict_shopId[str(shopId)]=find_suspiciousUser(df_periodSuspicious)\n",
    "    else:\n",
    "        dict_shopId[str(shopId)] = '0'"
   ]
  },
  {
   "cell_type": "code",
   "execution_count": 221,
   "metadata": {},
   "outputs": [],
   "source": [
    "with open(\"result.csv\",\"w\") as file:\n",
    "    fieldName = [\"shopid\", \"userid\"]\n",
    "    writer = csv.DictWriter(file, fieldnames= fieldName)\n",
    "    writer.writeheader()\n",
    "    for key,value in dict_shopId.items():\n",
    "        writer.writerow({'shopid':key, 'userid':value})\n"
   ]
  }
 ]
}